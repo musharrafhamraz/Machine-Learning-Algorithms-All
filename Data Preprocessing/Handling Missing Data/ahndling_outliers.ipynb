{
 "cells": [
  {
   "cell_type": "code",
   "execution_count": 1,
   "metadata": {},
   "outputs": [],
   "source": [
    "import pandas as pd\n",
    "import seaborn as sns\n",
    "import matplotlib.pyplot as plt"
   ]
  },
  {
   "cell_type": "code",
   "execution_count": 2,
   "metadata": {},
   "outputs": [
    {
     "data": {
      "text/html": [
       "<div>\n",
       "<style scoped>\n",
       "    .dataframe tbody tr th:only-of-type {\n",
       "        vertical-align: middle;\n",
       "    }\n",
       "\n",
       "    .dataframe tbody tr th {\n",
       "        vertical-align: top;\n",
       "    }\n",
       "\n",
       "    .dataframe thead th {\n",
       "        text-align: right;\n",
       "    }\n",
       "</style>\n",
       "<table border=\"1\" class=\"dataframe\">\n",
       "  <thead>\n",
       "    <tr style=\"text-align: right;\">\n",
       "      <th></th>\n",
       "      <th>code</th>\n",
       "      <th>current</th>\n",
       "      <th>team</th>\n",
       "      <th>team_gender</th>\n",
       "      <th>country_code</th>\n",
       "      <th>country</th>\n",
       "      <th>country_long</th>\n",
       "      <th>discipline</th>\n",
       "      <th>disciplines_code</th>\n",
       "      <th>events</th>\n",
       "      <th>athletes</th>\n",
       "      <th>coaches</th>\n",
       "      <th>athletes_codes</th>\n",
       "      <th>num_athletes</th>\n",
       "      <th>coaches_codes</th>\n",
       "      <th>num_coaches</th>\n",
       "    </tr>\n",
       "  </thead>\n",
       "  <tbody>\n",
       "    <tr>\n",
       "      <th>0</th>\n",
       "      <td>ARCMTEAM3---CHN01</td>\n",
       "      <td>True</td>\n",
       "      <td>People's Republic of China</td>\n",
       "      <td>M</td>\n",
       "      <td>CHN</td>\n",
       "      <td>China</td>\n",
       "      <td>People's Republic of China</td>\n",
       "      <td>Archery</td>\n",
       "      <td>ARC</td>\n",
       "      <td>Men's Team</td>\n",
       "      <td>['KAO Wenchao', 'LI Zhongyuan', 'WANG Yan']</td>\n",
       "      <td>NaN</td>\n",
       "      <td>['1913366', '1913367', '1913369']</td>\n",
       "      <td>3.0</td>\n",
       "      <td>NaN</td>\n",
       "      <td>NaN</td>\n",
       "    </tr>\n",
       "    <tr>\n",
       "      <th>1</th>\n",
       "      <td>ARCMTEAM3---COL01</td>\n",
       "      <td>True</td>\n",
       "      <td>Colombia</td>\n",
       "      <td>M</td>\n",
       "      <td>COL</td>\n",
       "      <td>Colombia</td>\n",
       "      <td>Colombia</td>\n",
       "      <td>Archery</td>\n",
       "      <td>ARC</td>\n",
       "      <td>Men's Team</td>\n",
       "      <td>['ARCILA Santiago', 'ENRIQUEZ Jorge', 'HERNAND...</td>\n",
       "      <td>NaN</td>\n",
       "      <td>['1935642', '1543412', '1935644']</td>\n",
       "      <td>3.0</td>\n",
       "      <td>NaN</td>\n",
       "      <td>NaN</td>\n",
       "    </tr>\n",
       "    <tr>\n",
       "      <th>2</th>\n",
       "      <td>ARCMTEAM3---FRA01</td>\n",
       "      <td>True</td>\n",
       "      <td>France</td>\n",
       "      <td>M</td>\n",
       "      <td>FRA</td>\n",
       "      <td>France</td>\n",
       "      <td>France</td>\n",
       "      <td>Archery</td>\n",
       "      <td>ARC</td>\n",
       "      <td>Men's Team</td>\n",
       "      <td>['ADDIS Baptiste', 'CHIRAULT Thomas', 'VALLADO...</td>\n",
       "      <td>NaN</td>\n",
       "      <td>['1541270', '1541272', '1541275']</td>\n",
       "      <td>3.0</td>\n",
       "      <td>NaN</td>\n",
       "      <td>NaN</td>\n",
       "    </tr>\n",
       "    <tr>\n",
       "      <th>3</th>\n",
       "      <td>ARCMTEAM3---GBR01</td>\n",
       "      <td>True</td>\n",
       "      <td>Great Britain</td>\n",
       "      <td>M</td>\n",
       "      <td>GBR</td>\n",
       "      <td>Great Britain</td>\n",
       "      <td>Great Britain</td>\n",
       "      <td>Archery</td>\n",
       "      <td>ARC</td>\n",
       "      <td>Men's Team</td>\n",
       "      <td>['HALL Conor', 'HALL Tom', 'WISE Alex']</td>\n",
       "      <td>NaN</td>\n",
       "      <td>['1560988', '1560989', '1561003']</td>\n",
       "      <td>3.0</td>\n",
       "      <td>NaN</td>\n",
       "      <td>NaN</td>\n",
       "    </tr>\n",
       "  </tbody>\n",
       "</table>\n",
       "</div>"
      ],
      "text/plain": [
       "                code  current                        team team_gender  \\\n",
       "0  ARCMTEAM3---CHN01     True  People's Republic of China           M   \n",
       "1  ARCMTEAM3---COL01     True                    Colombia           M   \n",
       "2  ARCMTEAM3---FRA01     True                      France           M   \n",
       "3  ARCMTEAM3---GBR01     True               Great Britain           M   \n",
       "\n",
       "  country_code        country                country_long discipline  \\\n",
       "0          CHN          China  People's Republic of China    Archery   \n",
       "1          COL       Colombia                    Colombia    Archery   \n",
       "2          FRA         France                      France    Archery   \n",
       "3          GBR  Great Britain               Great Britain    Archery   \n",
       "\n",
       "  disciplines_code      events  \\\n",
       "0              ARC  Men's Team   \n",
       "1              ARC  Men's Team   \n",
       "2              ARC  Men's Team   \n",
       "3              ARC  Men's Team   \n",
       "\n",
       "                                            athletes coaches  \\\n",
       "0        ['KAO Wenchao', 'LI Zhongyuan', 'WANG Yan']     NaN   \n",
       "1  ['ARCILA Santiago', 'ENRIQUEZ Jorge', 'HERNAND...     NaN   \n",
       "2  ['ADDIS Baptiste', 'CHIRAULT Thomas', 'VALLADO...     NaN   \n",
       "3            ['HALL Conor', 'HALL Tom', 'WISE Alex']     NaN   \n",
       "\n",
       "                      athletes_codes  num_athletes coaches_codes  num_coaches  \n",
       "0  ['1913366', '1913367', '1913369']           3.0           NaN          NaN  \n",
       "1  ['1935642', '1543412', '1935644']           3.0           NaN          NaN  \n",
       "2  ['1541270', '1541272', '1541275']           3.0           NaN          NaN  \n",
       "3  ['1560988', '1560989', '1561003']           3.0           NaN          NaN  "
      ]
     },
     "execution_count": 2,
     "metadata": {},
     "output_type": "execute_result"
    }
   ],
   "source": [
    "dataset = pd.read_csv('../teams.csv')\n",
    "dataset.head(4)"
   ]
  },
  {
   "cell_type": "code",
   "execution_count": 3,
   "metadata": {},
   "outputs": [
    {
     "data": {
      "image/png": "[encoded data removed]",
      "text/plain": [
       "<Figure size 640x480 with 1 Axes>"
      ]
     },
     "metadata": {},
     "output_type": "display_data"
    }
   ],
   "source": [
    "sns.boxplot(x='num_athletes', data = dataset)\n",
    "plt.show()"
   ]
  },
  {
   "cell_type": "code",
   "execution_count": 4,
   "metadata": {},
   "outputs": [
    {
     "data": {
      "text/html": [
       "<div>\n",
       "<style scoped>\n",
       "    .dataframe tbody tr th:only-of-type {\n",
       "        vertical-align: middle;\n",
       "    }\n",
       "\n",
       "    .dataframe tbody tr th {\n",
       "        vertical-align: top;\n",
       "    }\n",
       "\n",
       "    .dataframe thead th {\n",
       "        text-align: right;\n",
       "    }\n",
       "</style>\n",
       "<table border=\"1\" class=\"dataframe\">\n",
       "  <thead>\n",
       "    <tr style=\"text-align: right;\">\n",
       "      <th></th>\n",
       "      <th>num_athletes</th>\n",
       "      <th>num_coaches</th>\n",
       "    </tr>\n",
       "  </thead>\n",
       "  <tbody>\n",
       "    <tr>\n",
       "      <th>count</th>\n",
       "      <td>1695.000000</td>\n",
       "      <td>246.000000</td>\n",
       "    </tr>\n",
       "    <tr>\n",
       "      <th>mean</th>\n",
       "      <td>4.606490</td>\n",
       "      <td>4.365854</td>\n",
       "    </tr>\n",
       "    <tr>\n",
       "      <th>std</th>\n",
       "      <td>3.891574</td>\n",
       "      <td>2.263349</td>\n",
       "    </tr>\n",
       "    <tr>\n",
       "      <th>min</th>\n",
       "      <td>2.000000</td>\n",
       "      <td>1.000000</td>\n",
       "    </tr>\n",
       "    <tr>\n",
       "      <th>25%</th>\n",
       "      <td>2.000000</td>\n",
       "      <td>2.250000</td>\n",
       "    </tr>\n",
       "    <tr>\n",
       "      <th>50%</th>\n",
       "      <td>4.000000</td>\n",
       "      <td>4.000000</td>\n",
       "    </tr>\n",
       "    <tr>\n",
       "      <th>75%</th>\n",
       "      <td>4.000000</td>\n",
       "      <td>6.000000</td>\n",
       "    </tr>\n",
       "    <tr>\n",
       "      <th>max</th>\n",
       "      <td>22.000000</td>\n",
       "      <td>12.000000</td>\n",
       "    </tr>\n",
       "  </tbody>\n",
       "</table>\n",
       "</div>"
      ],
      "text/plain": [
       "       num_athletes  num_coaches\n",
       "count   1695.000000   246.000000\n",
       "mean       4.606490     4.365854\n",
       "std        3.891574     2.263349\n",
       "min        2.000000     1.000000\n",
       "25%        2.000000     2.250000\n",
       "50%        4.000000     4.000000\n",
       "75%        4.000000     6.000000\n",
       "max       22.000000    12.000000"
      ]
     },
     "execution_count": 4,
     "metadata": {},
     "output_type": "execute_result"
    }
   ],
   "source": [
    "dataset.describe()"
   ]
  },
  {
   "cell_type": "code",
   "execution_count": 5,
   "metadata": {},
   "outputs": [
    {
     "data": {
      "text/plain": [
       "<seaborn.axisgrid.FacetGrid at 0x1b925d69b50>"
      ]
     },
     "execution_count": 5,
     "metadata": {},
     "output_type": "execute_result"
    },
    {
     "data": {
      "image/png": "[encoded data removed]",
      "text/plain": [
       "<Figure size 500x500 with 1 Axes>"
      ]
     },
     "metadata": {},
     "output_type": "display_data"
    }
   ],
   "source": [
    "sns.displot(dataset['num_athletes'])"
   ]
  },
  {
   "cell_type": "markdown",
   "metadata": {},
   "source": [
    "Till now we have detected the outliers in our dataset."
   ]
  },
  {
   "cell_type": "markdown",
   "metadata": {},
   "source": [
    "**Handling Outliers**"
   ]
  },
  {
   "cell_type": "markdown",
   "metadata": {},
   "source": [
    "There are two methods to remove outliers from the dataset:\n",
    "1. IQR Method\n",
    "2. Z-Index Method"
   ]
  },
  {
   "cell_type": "markdown",
   "metadata": {},
   "source": [
    "Inter Quantile Range\n",
    "IQR = Q3 - Q1\n",
    "\n",
    "min_range = Q1 - (1.5 x IQR)\n",
    "\n",
    "max_range = Q3 - (1.5 x IQR)"
   ]
  },
  {
   "cell_type": "code",
   "execution_count": 6,
   "metadata": {},
   "outputs": [],
   "source": [
    "q1 = dataset['num_athletes'].quantile(0.25)\n",
    "q3 = dataset['num_athletes'].quantile(0.75)"
   ]
  },
  {
   "cell_type": "code",
   "execution_count": 7,
   "metadata": {},
   "outputs": [],
   "source": [
    "IQR = q3 - q1"
   ]
  },
  {
   "cell_type": "code",
   "execution_count": 8,
   "metadata": {},
   "outputs": [],
   "source": [
    "min_range = q1 - (1.5 * IQR)\n",
    "max_range = q3 - (1.5 * IQR)"
   ]
  },
  {
   "cell_type": "code",
   "execution_count": 9,
   "metadata": {},
   "outputs": [],
   "source": [
    "new_dataset = dataset[dataset['num_athletes']<=max_range]"
   ]
  },
  {
   "cell_type": "code",
   "execution_count": 12,
   "metadata": {},
   "outputs": [
    {
     "data": {
      "text/plain": [
       "(0, 16)"
      ]
     },
     "execution_count": 12,
     "metadata": {},
     "output_type": "execute_result"
    }
   ],
   "source": [
    "new_dataset.shape"
   ]
  },
  {
   "cell_type": "code",
   "execution_count": 13,
   "metadata": {},
   "outputs": [
    {
     "data": {
      "image/png": "[encoded data removed]",
      "text/plain": [
       "<Figure size 640x480 with 1 Axes>"
      ]
     },
     "metadata": {},
     "output_type": "display_data"
    }
   ],
   "source": [
    "sns.boxplot(x='num_athletes', data = new_dataset)\n",
    "plt.show()"
   ]
  },
  {
   "cell_type": "code",
   "execution_count": null,
   "metadata": {},
   "outputs": [],
   "source": []
  }
 ],
 "metadata": {
  "kernelspec": {
   "display_name": "Python 3",
   "language": "python",
   "name": "python3"
  },
  "language_info": {
   "codemirror_mode": {
    "name": "ipython",
    "version": 3
   },
   "file_extension": ".py",
   "mimetype": "text/x-python",
   "name": "python",
   "nbconvert_exporter": "python",
   "pygments_lexer": "ipython3",
   "version": "3.12.2"
  }
 },
 "nbformat": 4,
 "nbformat_minor": 2
}
