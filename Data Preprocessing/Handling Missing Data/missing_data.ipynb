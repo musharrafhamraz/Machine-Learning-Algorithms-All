{
 "cells": [
  {
   "cell_type": "code",
   "execution_count": 19,
   "metadata": {},
   "outputs": [],
   "source": [
    "import pandas as pd\n",
    "import seaborn as sns\n",
    "import matplotlib.pyplot as plt"
   ]
  },
  {
   "cell_type": "code",
   "execution_count": 7,
   "metadata": {},
   "outputs": [
    {
     "data": {
      "text/html": [
       "<div>\n",
       "<style scoped>\n",
       "    .dataframe tbody tr th:only-of-type {\n",
       "        vertical-align: middle;\n",
       "    }\n",
       "\n",
       "    .dataframe tbody tr th {\n",
       "        vertical-align: top;\n",
       "    }\n",
       "\n",
       "    .dataframe thead th {\n",
       "        text-align: right;\n",
       "    }\n",
       "</style>\n",
       "<table border=\"1\" class=\"dataframe\">\n",
       "  <thead>\n",
       "    <tr style=\"text-align: right;\">\n",
       "      <th></th>\n",
       "      <th>code</th>\n",
       "      <th>current</th>\n",
       "      <th>team</th>\n",
       "      <th>team_gender</th>\n",
       "      <th>country_code</th>\n",
       "      <th>country</th>\n",
       "      <th>country_long</th>\n",
       "      <th>discipline</th>\n",
       "      <th>disciplines_code</th>\n",
       "      <th>events</th>\n",
       "      <th>athletes</th>\n",
       "      <th>coaches</th>\n",
       "      <th>athletes_codes</th>\n",
       "      <th>num_athletes</th>\n",
       "      <th>coaches_codes</th>\n",
       "      <th>num_coaches</th>\n",
       "    </tr>\n",
       "  </thead>\n",
       "  <tbody>\n",
       "    <tr>\n",
       "      <th>0</th>\n",
       "      <td>ARCMTEAM3---CHN01</td>\n",
       "      <td>True</td>\n",
       "      <td>People's Republic of China</td>\n",
       "      <td>M</td>\n",
       "      <td>CHN</td>\n",
       "      <td>China</td>\n",
       "      <td>People's Republic of China</td>\n",
       "      <td>Archery</td>\n",
       "      <td>ARC</td>\n",
       "      <td>Men's Team</td>\n",
       "      <td>['KAO Wenchao', 'LI Zhongyuan', 'WANG Yan']</td>\n",
       "      <td>NaN</td>\n",
       "      <td>['1913366', '1913367', '1913369']</td>\n",
       "      <td>3.0</td>\n",
       "      <td>NaN</td>\n",
       "      <td>NaN</td>\n",
       "    </tr>\n",
       "    <tr>\n",
       "      <th>1</th>\n",
       "      <td>ARCMTEAM3---COL01</td>\n",
       "      <td>True</td>\n",
       "      <td>Colombia</td>\n",
       "      <td>M</td>\n",
       "      <td>COL</td>\n",
       "      <td>Colombia</td>\n",
       "      <td>Colombia</td>\n",
       "      <td>Archery</td>\n",
       "      <td>ARC</td>\n",
       "      <td>Men's Team</td>\n",
       "      <td>['ARCILA Santiago', 'ENRIQUEZ Jorge', 'HERNAND...</td>\n",
       "      <td>NaN</td>\n",
       "      <td>['1935642', '1543412', '1935644']</td>\n",
       "      <td>3.0</td>\n",
       "      <td>NaN</td>\n",
       "      <td>NaN</td>\n",
       "    </tr>\n",
       "    <tr>\n",
       "      <th>2</th>\n",
       "      <td>ARCMTEAM3---FRA01</td>\n",
       "      <td>True</td>\n",
       "      <td>France</td>\n",
       "      <td>M</td>\n",
       "      <td>FRA</td>\n",
       "      <td>France</td>\n",
       "      <td>France</td>\n",
       "      <td>Archery</td>\n",
       "      <td>ARC</td>\n",
       "      <td>Men's Team</td>\n",
       "      <td>['ADDIS Baptiste', 'CHIRAULT Thomas', 'VALLADO...</td>\n",
       "      <td>NaN</td>\n",
       "      <td>['1541270', '1541272', '1541275']</td>\n",
       "      <td>3.0</td>\n",
       "      <td>NaN</td>\n",
       "      <td>NaN</td>\n",
       "    </tr>\n",
       "  </tbody>\n",
       "</table>\n",
       "</div>"
      ],
      "text/plain": [
       "                code  current                        team team_gender  \\\n",
       "0  ARCMTEAM3---CHN01     True  People's Republic of China           M   \n",
       "1  ARCMTEAM3---COL01     True                    Colombia           M   \n",
       "2  ARCMTEAM3---FRA01     True                      France           M   \n",
       "\n",
       "  country_code   country                country_long discipline  \\\n",
       "0          CHN     China  People's Republic of China    Archery   \n",
       "1          COL  Colombia                    Colombia    Archery   \n",
       "2          FRA    France                      France    Archery   \n",
       "\n",
       "  disciplines_code      events  \\\n",
       "0              ARC  Men's Team   \n",
       "1              ARC  Men's Team   \n",
       "2              ARC  Men's Team   \n",
       "\n",
       "                                            athletes coaches  \\\n",
       "0        ['KAO Wenchao', 'LI Zhongyuan', 'WANG Yan']     NaN   \n",
       "1  ['ARCILA Santiago', 'ENRIQUEZ Jorge', 'HERNAND...     NaN   \n",
       "2  ['ADDIS Baptiste', 'CHIRAULT Thomas', 'VALLADO...     NaN   \n",
       "\n",
       "                      athletes_codes  num_athletes coaches_codes  num_coaches  \n",
       "0  ['1913366', '1913367', '1913369']           3.0           NaN          NaN  \n",
       "1  ['1935642', '1543412', '1935644']           3.0           NaN          NaN  \n",
       "2  ['1541270', '1541272', '1541275']           3.0           NaN          NaN  "
      ]
     },
     "execution_count": 7,
     "metadata": {},
     "output_type": "execute_result"
    }
   ],
   "source": [
    "dataset = pd.read_csv('../teams.csv')\n",
    "dataset.head(3)"
   ]
  },
  {
   "cell_type": "code",
   "execution_count": 9,
   "metadata": {},
   "outputs": [
    {
     "data": {
      "text/plain": [
       "(1698, 16)"
      ]
     },
     "execution_count": 9,
     "metadata": {},
     "output_type": "execute_result"
    }
   ],
   "source": [
    "dataset.shape"
   ]
  },
  {
   "cell_type": "code",
   "execution_count": 8,
   "metadata": {},
   "outputs": [
    {
     "data": {
      "text/plain": [
       "code                   0\n",
       "current                0\n",
       "team                   0\n",
       "team_gender            0\n",
       "country_code           0\n",
       "country                0\n",
       "country_long           0\n",
       "discipline             0\n",
       "disciplines_code       0\n",
       "events               321\n",
       "athletes               3\n",
       "coaches             1452\n",
       "athletes_codes         3\n",
       "num_athletes           3\n",
       "coaches_codes       1452\n",
       "num_coaches         1452\n",
       "dtype: int64"
      ]
     },
     "execution_count": 8,
     "metadata": {},
     "output_type": "execute_result"
    }
   ],
   "source": [
    "dataset.isnull().sum()"
   ]
  },
  {
   "cell_type": "code",
   "execution_count": 10,
   "metadata": {},
   "outputs": [
    {
     "data": {
      "text/plain": [
       "code                 0.000000\n",
       "current              0.000000\n",
       "team                 0.000000\n",
       "team_gender          0.000000\n",
       "country_code         0.000000\n",
       "country              0.000000\n",
       "country_long         0.000000\n",
       "discipline           0.000000\n",
       "disciplines_code     0.000000\n",
       "events              18.904594\n",
       "athletes             0.176678\n",
       "coaches             85.512367\n",
       "athletes_codes       0.176678\n",
       "num_athletes         0.176678\n",
       "coaches_codes       85.512367\n",
       "num_coaches         85.512367\n",
       "dtype: float64"
      ]
     },
     "execution_count": 10,
     "metadata": {},
     "output_type": "execute_result"
    }
   ],
   "source": [
    "(dataset.isnull().sum()/dataset.shape[0])*100"
   ]
  },
  {
   "cell_type": "code",
   "execution_count": 16,
   "metadata": {},
   "outputs": [
    {
     "data": {
      "text/plain": [
       "code                 0.000000\n",
       "current              0.000000\n",
       "team                 0.000000\n",
       "team_gender          0.000000\n",
       "country_code         0.000000\n",
       "country              0.000000\n",
       "country_long         0.000000\n",
       "discipline           0.000000\n",
       "disciplines_code     0.000000\n",
       "events              18.904594\n",
       "athletes             0.176678\n",
       "coaches             85.512367\n",
       "athletes_codes       0.176678\n",
       "num_athletes         0.176678\n",
       "coaches_codes       85.512367\n",
       "num_coaches         85.512367\n",
       "dtype: float64"
      ]
     },
     "execution_count": 16,
     "metadata": {},
     "output_type": "execute_result"
    }
   ],
   "source": [
    "(dataset.isnull().sum()/dataset.shape[0])*100"
   ]
  },
  {
   "cell_type": "code",
   "execution_count": 17,
   "metadata": {},
   "outputs": [
    {
     "data": {
      "text/plain": [
       "17.248233215547703"
      ]
     },
     "execution_count": 17,
     "metadata": {},
     "output_type": "execute_result"
    }
   ],
   "source": [
    "(dataset.isnull().sum().sum()/(dataset.shape[0]*dataset.shape[1]))*100"
   ]
  },
  {
   "cell_type": "code",
   "execution_count": 21,
   "metadata": {},
   "outputs": [
    {
     "data": {
      "image/png": "[encoded data removed]",
      "text/plain": [
       "<Figure size 640x480 with 2 Axes>"
      ]
     },
     "metadata": {},
     "output_type": "display_data"
    }
   ],
   "source": [
    "sns.heatmap(dataset.isnull())\n",
    "plt.show()"
   ]
  },
  {
   "cell_type": "code",
   "execution_count": null,
   "metadata": {},
   "outputs": [],
   "source": []
  }
 ],
 "metadata": {
  "kernelspec": {
   "display_name": "Python 3",
   "language": "python",
   "name": "python3"
  },
  "language_info": {
   "codemirror_mode": {
    "name": "ipython",
    "version": 3
   },
   "file_extension": ".py",
   "mimetype": "text/x-python",
   "name": "python",
   "nbconvert_exporter": "python",
   "pygments_lexer": "ipython3",
   "version": "3.12.2"
  }
 },
 "nbformat": 4,
 "nbformat_minor": 2
}
